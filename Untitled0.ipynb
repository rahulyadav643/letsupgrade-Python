{
  "nbformat": 4,
  "nbformat_minor": 0,
  "metadata": {
    "colab": {
      "name": "Untitled0.ipynb",
      "provenance": [],
      "collapsed_sections": [],
      "authorship_tag": "ABX9TyPM+1V/vBVrcZxEhGm08ZTo",
      "include_colab_link": true
    },
    "kernelspec": {
      "name": "python3",
      "display_name": "Python 3"
    }
  },
  "cells": [
    {
      "cell_type": "markdown",
      "metadata": {
        "id": "view-in-github",
        "colab_type": "text"
      },
      "source": [
        "<a href=\"https://colab.research.google.com/github/rahulyadav643/letsupgrade-Python/blob/master/Untitled0.ipynb\" target=\"_parent\"><img src=\"https://colab.research.google.com/assets/colab-badge.svg\" alt=\"Open In Colab\"/></a>"
      ]
    },
    {
      "cell_type": "code",
      "metadata": {
        "id": "UHdOV-_58fSM",
        "colab_type": "code",
        "colab": {
          "base_uri": "https://localhost:8080/",
          "height": 51
        },
        "outputId": "38a7e3f9-96dd-41a5-c2da-02636e4c6d12"
      },
      "source": [
        " num=input(\"enter the altitude\")\n",
        "num=int(num)\n",
        "if num<=1000:\n",
        "    print(\"LAND THE PLANE\")\n",
        "elif num<=5000:\n",
        "    print(\"Take plane down to 1000Ft\")\n",
        "else:\n",
        "    print(\"Turn around\")"
      ],
      "execution_count": null,
      "outputs": [
        {
          "output_type": "stream",
          "text": [
            "enter the altitude3500\n",
            "Take plane down to 1000Ft\n"
          ],
          "name": "stdout"
        }
      ]
    }
  ]
}