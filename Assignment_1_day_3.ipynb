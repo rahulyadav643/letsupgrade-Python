{
  "nbformat": 4,
  "nbformat_minor": 0,
  "metadata": {
    "colab": {
      "name": "Assignment_1 day_3.ipynb",
      "provenance": [],
      "collapsed_sections": [],
      "authorship_tag": "ABX9TyPM+1V/vBVrcZxEhGm08ZTo",
      "include_colab_link": true
    },
    "kernelspec": {
      "name": "python3",
      "display_name": "Python 3"
    }
  },
  "cells": [
    {
      "cell_type": "markdown",
      "metadata": {
        "id": "view-in-github",
        "colab_type": "text"
      },
      "source": [
        "<a href=\"https://colab.research.google.com/github/rahulyadav643/letsupgrade-Python/blob/master/Assignment_1_day_3.ipynb\" target=\"_parent\"><img src=\"https://colab.research.google.com/assets/colab-badge.svg\" alt=\"Open In Colab\"/></a>"
      ]
    },
    {
      "cell_type": "code",
      "metadata": {
        "id": "UHdOV-_58fSM",
        "colab_type": "code",
        "colab": {
          "base_uri": "https://localhost:8080/",
          "height": 51
        },
        "outputId": "505a4cb6-7a51-4a24-fcc4-b545f18bce69"
      },
      "source": [
        " num=input(\"enter the altitude\")\n",
        "num=int(num)\n",
        "if num<=1000:\n",
        "    print(\"LAND THE PLANE\")\n",
        "elif num<=5000:\n",
        "    print(\"Take plane down to 1000Ft\")\n",
        "else:\n",
        "    print(\"Turn around\")"
      ],
      "execution_count": null,
      "outputs": [
        {
          "output_type": "stream",
          "text": [
            "enter the altitude1500\n",
            "Take plane down to 1000Ft\n"
          ],
          "name": "stdout"
        }
      ]
    }
  ]
}