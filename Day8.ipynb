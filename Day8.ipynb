{
  "nbformat": 4,
  "nbformat_minor": 0,
  "metadata": {
    "colab": {
      "name": "Day8.ipynb",
      "provenance": [],
      "authorship_tag": "ABX9TyN1d2x7QyldTH25bK+mTQKv",
      "include_colab_link": true
    },
    "kernelspec": {
      "name": "python3",
      "display_name": "Python 3"
    }
  },
  "cells": [
    {
      "cell_type": "markdown",
      "metadata": {
        "id": "view-in-github",
        "colab_type": "text"
      },
      "source": [
        "<a href=\"https://colab.research.google.com/github/rahulyadav643/letsupgrade-Python/blob/master/Day8.ipynb\" target=\"_parent\"><img src=\"https://colab.research.google.com/assets/colab-badge.svg\" alt=\"Open In Colab\"/></a>"
      ]
    },
    {
      "cell_type": "code",
      "metadata": {
        "id": "eytG-c7of_5k",
        "colab_type": "code",
        "colab": {
          "base_uri": "https://localhost:8080/",
          "height": 71
        },
        "outputId": "e9eaf5e6-ca2b-4754-c71d-971d013b6fbe"
      },
      "source": [
        " \n",
        "import time \n",
        "import math \n",
        "def calculate_time(func): \n",
        "    def inner1(*args, **kwargs): \n",
        " \n",
        "        begin = time.time() \n",
        "        func(*args, **kwargs) \n",
        "        end = time.time() \n",
        " \n",
        "        print(\"Total time taken in : \", func.__name__, end - begin) \n",
        "    return inner1 \n",
        "@calculate_time\n",
        "def factorial(num) :\n",
        "    time.sleep(2) \n",
        "    print(math.factorial(num)) \n",
        "factorial(10)"
      ],
      "execution_count": 1,
      "outputs": [
        {
          "output_type": "stream",
          "text": [
            "3628800\n",
            "Total time taken in :  factorial 2.0023033618927\n"
          ],
          "name": "stdout"
        }
      ]
    }
  ]
}